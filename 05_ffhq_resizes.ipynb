{
 "cells": [
  {
   "cell_type": "code",
   "execution_count": 2,
   "metadata": {},
   "outputs": [],
   "source": [
    "import time, os, glob, gc, joblib\n",
    "import numpy as np\n",
    "import pandas as pd\n",
    "from pandas import json_normalize\n",
    "from PIL import Image"
   ]
  },
  {
   "cell_type": "code",
   "execution_count": 3,
   "metadata": {},
   "outputs": [],
   "source": [
    "img_paths = glob.glob('D:/Works/Programs/gan/data/ffhq-dataset-images/images512x512/*.png')\n",
    "img_paths.sort()\n",
    "\n",
    "height = 256\n",
    "resize_path = 'D:/Works/Programs/gan/data/ffhq-dataset-images/images{0}x{0}'.format(height)\n",
    "os.makedirs(resize_path, exist_ok=True)\n",
    "\n",
    "for path in img_paths:\n",
    "    img = Image.open(path, 'r')\n",
    "    \n",
    "    before_x, before_y = img.size[0], img.size[1]\n",
    "    x = int(round(float(height / float(before_y) * float(before_x))))\n",
    "    y = height\n",
    "\n",
    "    img.thumbnail((x, y), Image.ANTIALIAS)\n",
    "    img.save('{}/{}'.format(resize_path, os.path.basename(path)), 'png')"
   ]
  },
  {
   "cell_type": "code",
   "execution_count": 48,
   "metadata": {},
   "outputs": [],
   "source": [
    "ffhq = pd.read_json('ffhq-dataset-v2.json', orient='index')"
   ]
  },
  {
   "cell_type": "code",
   "execution_count": 50,
   "metadata": {},
   "outputs": [
    {
     "data": {
      "text/html": [
       "<div>\n",
       "<style scoped>\n",
       "    .dataframe tbody tr th:only-of-type {\n",
       "        vertical-align: middle;\n",
       "    }\n",
       "\n",
       "    .dataframe tbody tr th {\n",
       "        vertical-align: top;\n",
       "    }\n",
       "\n",
       "    .dataframe thead th {\n",
       "        text-align: right;\n",
       "    }\n",
       "</style>\n",
       "<table border=\"1\" class=\"dataframe\">\n",
       "  <thead>\n",
       "    <tr style=\"text-align: right;\">\n",
       "      <th></th>\n",
       "      <th>file_url</th>\n",
       "      <th>file_path</th>\n",
       "      <th>file_size</th>\n",
       "      <th>file_md5</th>\n",
       "      <th>pixel_size</th>\n",
       "      <th>pixel_md5</th>\n",
       "      <th>face_landmarks</th>\n",
       "    </tr>\n",
       "  </thead>\n",
       "  <tbody>\n",
       "    <tr>\n",
       "      <th>0</th>\n",
       "      <td>https://drive.google.com/uc?id=1xJYS4u3p0wMmDt...</td>\n",
       "      <td>images1024x1024/00000/00000.png</td>\n",
       "      <td>1488194</td>\n",
       "      <td>ddeaeea6ce59569643715759d537fd1b</td>\n",
       "      <td>[1024, 1024]</td>\n",
       "      <td>47238b44dfb87644460cbdcc4607e289</td>\n",
       "      <td>[[131.62, 453.8], [142.86, 535.23], [154.31, 6...</td>\n",
       "    </tr>\n",
       "    <tr>\n",
       "      <th>1</th>\n",
       "      <td>https://drive.google.com/uc?id=1xFdaGg1bWKVKp1...</td>\n",
       "      <td>images1024x1024/00000/00001.png</td>\n",
       "      <td>1278693</td>\n",
       "      <td>d86785e692be84c0af15fece0a778322</td>\n",
       "      <td>[1024, 1024]</td>\n",
       "      <td>9d06acf85c53efada391b8f48fe89751</td>\n",
       "      <td>[[232.2, 483.59], [235.45, 562.36], [241.26, 6...</td>\n",
       "    </tr>\n",
       "    <tr>\n",
       "      <th>2</th>\n",
       "      <td>https://drive.google.com/uc?id=1xBaWXmZoiSM91u...</td>\n",
       "      <td>images1024x1024/00000/00002.png</td>\n",
       "      <td>983526</td>\n",
       "      <td>9252233c55868bd800ada6c5d8a4f745</td>\n",
       "      <td>[1024, 1024]</td>\n",
       "      <td>0faa77f40d7628e982568d6a2181f35e</td>\n",
       "      <td>[[186.86, 439.16], [191.48, 521.13], [202.36, ...</td>\n",
       "    </tr>\n",
       "    <tr>\n",
       "      <th>3</th>\n",
       "      <td>https://drive.google.com/uc?id=1wwIGDbieFOKjTt...</td>\n",
       "      <td>images1024x1024/00000/00003.png</td>\n",
       "      <td>1456759</td>\n",
       "      <td>34c048850ae645c25c36467f338060b3</td>\n",
       "      <td>[1024, 1024]</td>\n",
       "      <td>54192c75e06c326821832ed1adfce54c</td>\n",
       "      <td>[[229.64, 463.16], [230.44, 538.84], [240.27, ...</td>\n",
       "    </tr>\n",
       "    <tr>\n",
       "      <th>4</th>\n",
       "      <td>https://drive.google.com/uc?id=1wjb7xWJ93E5fUa...</td>\n",
       "      <td>images1024x1024/00000/00004.png</td>\n",
       "      <td>1449873</td>\n",
       "      <td>ea3751ae3bb996ffdef94dbf90c6a183</td>\n",
       "      <td>[1024, 1024]</td>\n",
       "      <td>a2f483ebfe36bf80a49115fcf58179b9</td>\n",
       "      <td>[[263.14, 474.16], [263.54, 548.11], [271.59, ...</td>\n",
       "    </tr>\n",
       "    <tr>\n",
       "      <th>...</th>\n",
       "      <td>...</td>\n",
       "      <td>...</td>\n",
       "      <td>...</td>\n",
       "      <td>...</td>\n",
       "      <td>...</td>\n",
       "      <td>...</td>\n",
       "      <td>...</td>\n",
       "    </tr>\n",
       "    <tr>\n",
       "      <th>69995</th>\n",
       "      <td>https://drive.google.com/uc?id=1iPjjdADzxONsFc...</td>\n",
       "      <td>images1024x1024/69000/69995.png</td>\n",
       "      <td>1442800</td>\n",
       "      <td>54820030e7cbeea298edfc7f6109ee9a</td>\n",
       "      <td>[1024, 1024]</td>\n",
       "      <td>4d04bc111d76c5e20f5955b40cea46ac</td>\n",
       "      <td>[[244.48, 468.1], [252.76, 537.21], [262.54, 6...</td>\n",
       "    </tr>\n",
       "    <tr>\n",
       "      <th>69996</th>\n",
       "      <td>https://drive.google.com/uc?id=1kqYKqcVyUcWdom...</td>\n",
       "      <td>images1024x1024/69000/69996.png</td>\n",
       "      <td>1430895</td>\n",
       "      <td>13881bda58df641ecd1e290ee0194324</td>\n",
       "      <td>[1024, 1024]</td>\n",
       "      <td>7271ee69f94628996b16e7599c1c84b8</td>\n",
       "      <td>[[240.63, 478.9], [236.27, 560.91], [238.46, 6...</td>\n",
       "    </tr>\n",
       "    <tr>\n",
       "      <th>69997</th>\n",
       "      <td>https://drive.google.com/uc?id=1kevWtN1JRpR8-j...</td>\n",
       "      <td>images1024x1024/69000/69997.png</td>\n",
       "      <td>1382650</td>\n",
       "      <td>dbc9d5072654cbcd3d65cede281d5f0b</td>\n",
       "      <td>[1024, 1024]</td>\n",
       "      <td>6c94d65fdbc2a2d0f64d462aafb87582</td>\n",
       "      <td>[[312.6, 508.78], [299.99, 578.47], [291.65, 6...</td>\n",
       "    </tr>\n",
       "    <tr>\n",
       "      <th>69998</th>\n",
       "      <td>https://drive.google.com/uc?id=1kmKdypUCaI4BHR...</td>\n",
       "      <td>images1024x1024/69000/69998.png</td>\n",
       "      <td>1359032</td>\n",
       "      <td>1847e407a91cbbccb3df684bfc4684e5</td>\n",
       "      <td>[1024, 1024]</td>\n",
       "      <td>6fc30e315e304102b8121a7e32be257d</td>\n",
       "      <td>[[271.07, 466.76], [270.09, 534.93], [283.72, ...</td>\n",
       "    </tr>\n",
       "    <tr>\n",
       "      <th>69999</th>\n",
       "      <td>https://drive.google.com/uc?id=1ke-oXUYgzUfI7X...</td>\n",
       "      <td>images1024x1024/69000/69999.png</td>\n",
       "      <td>1505287</td>\n",
       "      <td>8b3df2166b8ca23e65a22f2bf3008c20</td>\n",
       "      <td>[1024, 1024]</td>\n",
       "      <td>5bc52eb27d977f8ba9e51185b7758f3a</td>\n",
       "      <td>[[253.5, 474.25], [254.91, 549.35], [254.73, 6...</td>\n",
       "    </tr>\n",
       "  </tbody>\n",
       "</table>\n",
       "<p>70000 rows × 7 columns</p>\n",
       "</div>"
      ],
      "text/plain": [
       "                                                file_url  \\\n",
       "0      https://drive.google.com/uc?id=1xJYS4u3p0wMmDt...   \n",
       "1      https://drive.google.com/uc?id=1xFdaGg1bWKVKp1...   \n",
       "2      https://drive.google.com/uc?id=1xBaWXmZoiSM91u...   \n",
       "3      https://drive.google.com/uc?id=1wwIGDbieFOKjTt...   \n",
       "4      https://drive.google.com/uc?id=1wjb7xWJ93E5fUa...   \n",
       "...                                                  ...   \n",
       "69995  https://drive.google.com/uc?id=1iPjjdADzxONsFc...   \n",
       "69996  https://drive.google.com/uc?id=1kqYKqcVyUcWdom...   \n",
       "69997  https://drive.google.com/uc?id=1kevWtN1JRpR8-j...   \n",
       "69998  https://drive.google.com/uc?id=1kmKdypUCaI4BHR...   \n",
       "69999  https://drive.google.com/uc?id=1ke-oXUYgzUfI7X...   \n",
       "\n",
       "                             file_path  file_size  \\\n",
       "0      images1024x1024/00000/00000.png    1488194   \n",
       "1      images1024x1024/00000/00001.png    1278693   \n",
       "2      images1024x1024/00000/00002.png     983526   \n",
       "3      images1024x1024/00000/00003.png    1456759   \n",
       "4      images1024x1024/00000/00004.png    1449873   \n",
       "...                                ...        ...   \n",
       "69995  images1024x1024/69000/69995.png    1442800   \n",
       "69996  images1024x1024/69000/69996.png    1430895   \n",
       "69997  images1024x1024/69000/69997.png    1382650   \n",
       "69998  images1024x1024/69000/69998.png    1359032   \n",
       "69999  images1024x1024/69000/69999.png    1505287   \n",
       "\n",
       "                               file_md5    pixel_size  \\\n",
       "0      ddeaeea6ce59569643715759d537fd1b  [1024, 1024]   \n",
       "1      d86785e692be84c0af15fece0a778322  [1024, 1024]   \n",
       "2      9252233c55868bd800ada6c5d8a4f745  [1024, 1024]   \n",
       "3      34c048850ae645c25c36467f338060b3  [1024, 1024]   \n",
       "4      ea3751ae3bb996ffdef94dbf90c6a183  [1024, 1024]   \n",
       "...                                 ...           ...   \n",
       "69995  54820030e7cbeea298edfc7f6109ee9a  [1024, 1024]   \n",
       "69996  13881bda58df641ecd1e290ee0194324  [1024, 1024]   \n",
       "69997  dbc9d5072654cbcd3d65cede281d5f0b  [1024, 1024]   \n",
       "69998  1847e407a91cbbccb3df684bfc4684e5  [1024, 1024]   \n",
       "69999  8b3df2166b8ca23e65a22f2bf3008c20  [1024, 1024]   \n",
       "\n",
       "                              pixel_md5  \\\n",
       "0      47238b44dfb87644460cbdcc4607e289   \n",
       "1      9d06acf85c53efada391b8f48fe89751   \n",
       "2      0faa77f40d7628e982568d6a2181f35e   \n",
       "3      54192c75e06c326821832ed1adfce54c   \n",
       "4      a2f483ebfe36bf80a49115fcf58179b9   \n",
       "...                                 ...   \n",
       "69995  4d04bc111d76c5e20f5955b40cea46ac   \n",
       "69996  7271ee69f94628996b16e7599c1c84b8   \n",
       "69997  6c94d65fdbc2a2d0f64d462aafb87582   \n",
       "69998  6fc30e315e304102b8121a7e32be257d   \n",
       "69999  5bc52eb27d977f8ba9e51185b7758f3a   \n",
       "\n",
       "                                          face_landmarks  \n",
       "0      [[131.62, 453.8], [142.86, 535.23], [154.31, 6...  \n",
       "1      [[232.2, 483.59], [235.45, 562.36], [241.26, 6...  \n",
       "2      [[186.86, 439.16], [191.48, 521.13], [202.36, ...  \n",
       "3      [[229.64, 463.16], [230.44, 538.84], [240.27, ...  \n",
       "4      [[263.14, 474.16], [263.54, 548.11], [271.59, ...  \n",
       "...                                                  ...  \n",
       "69995  [[244.48, 468.1], [252.76, 537.21], [262.54, 6...  \n",
       "69996  [[240.63, 478.9], [236.27, 560.91], [238.46, 6...  \n",
       "69997  [[312.6, 508.78], [299.99, 578.47], [291.65, 6...  \n",
       "69998  [[271.07, 466.76], [270.09, 534.93], [283.72, ...  \n",
       "69999  [[253.5, 474.25], [254.91, 549.35], [254.73, 6...  \n",
       "\n",
       "[70000 rows x 7 columns]"
      ]
     },
     "execution_count": 50,
     "metadata": {},
     "output_type": "execute_result"
    }
   ],
   "source": [
    "metas = pd.json_normalize(ffhq['image'])\n",
    "metas"
   ]
  },
  {
   "cell_type": "code",
   "execution_count": 60,
   "metadata": {},
   "outputs": [
    {
     "data": {
      "text/plain": [
       "(70000, 32, 32, 3)"
      ]
     },
     "execution_count": 60,
     "metadata": {},
     "output_type": "execute_result"
    }
   ],
   "source": [
    "img_paths = glob.glob('D:/Works/Programs/gan/data/ffhq-dataset-images/thumbnails32x32/*.png')\n",
    "img_paths.sort()\n",
    "\n",
    "height = 32\n",
    "np_path = 'D:/Works/Programs/gan/data/ffhq-dataset-images/numpy'.format(height)\n",
    "os.makedirs(np_path, exist_ok=True)\n",
    "\n",
    "data = []\n",
    "for path in img_paths:\n",
    "    img = np.array(Image.open(path, 'r'))\n",
    "    data.append(img.reshape((1, img.shape[0], img.shape[1], img.shape[2])))\n",
    "\n",
    "data = np.concatenate(data)\n",
    "data.shape"
   ]
  },
  {
   "cell_type": "code",
   "execution_count": 63,
   "metadata": {},
   "outputs": [
    {
     "name": "stdout",
     "output_type": "stream",
     "text": [
      "Wall time: 5.75 s\n"
     ]
    },
    {
     "data": {
      "text/plain": [
       "['D:/Works/Programs/gan/data/ffhq-dataset-images/numpy/hutmbnails32x32.joblib']"
      ]
     },
     "execution_count": 63,
     "metadata": {},
     "output_type": "execute_result"
    }
   ],
   "source": [
    "%%time\n",
    "\n",
    "joblib.dump(data, '{}/hutmbnails32x32.joblib'.format(np_path), compress=3)"
   ]
  },
  {
   "cell_type": "code",
   "execution_count": 56,
   "metadata": {},
   "outputs": [
    {
     "data": {
      "text/plain": [
       "140"
      ]
     },
     "execution_count": 56,
     "metadata": {},
     "output_type": "execute_result"
    }
   ],
   "source": [
    "del data\n",
    "gc.collect()"
   ]
  }
 ],
 "metadata": {
  "kernelspec": {
   "display_name": "Python 3",
   "language": "python",
   "name": "python3"
  },
  "language_info": {
   "codemirror_mode": {
    "name": "ipython",
    "version": 3
   },
   "file_extension": ".py",
   "mimetype": "text/x-python",
   "name": "python",
   "nbconvert_exporter": "python",
   "pygments_lexer": "ipython3",
   "version": "3.7.8"
  }
 },
 "nbformat": 4,
 "nbformat_minor": 4
}
